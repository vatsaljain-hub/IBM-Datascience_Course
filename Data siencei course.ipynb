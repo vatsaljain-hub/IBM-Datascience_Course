{
  "metadata": {
    "language_info": {
      "codemirror_mode": {
        "name": "python",
        "version": 3
      },
      "file_extension": ".py",
      "mimetype": "text/x-python",
      "name": "python",
      "nbconvert_exporter": "python",
      "pygments_lexer": "ipython3",
      "version": "3.8"
    },
    "kernelspec": {
      "name": "python",
      "display_name": "Python (Pyodide)",
      "language": "python"
    }
  },
  "nbformat_minor": 4,
  "nbformat": 4,
  "cells": [
    {
      "cell_type": "markdown",
      "source": " **Data Science Tools and Ecosystem",
      "metadata": {}
    },
    {
      "cell_type": "markdown",
      "source": "In this notebook, Data Science Tools and Ecosystem are summarized.",
      "metadata": {}
    },
    {
      "cell_type": "markdown",
      "source": "***Objectives:\n\n<ol>\n<li>List popular languages for Data Science</li>\n<li>List tools for data science</li>\n<li>Complete arithmetic expressions</li>\n\n</ol>",
      "metadata": {}
    },
    {
      "cell_type": "markdown",
      "source": "Some of the popular languages that Data Scientists use are:\n\n<ol>\n<li>R</li>\n<li>Python</li>\n<li>SQL</li>\n<li> Java</li>\n</ol>",
      "metadata": {}
    },
    {
      "cell_type": "markdown",
      "source": "Some of the commonly used libraries used by Data Scientists include:\n\n<ol>\n<li>Seaborn</li>\n<li>Numpy</li>\n<li>Pandase</li>\n<li> ggplot</li>\n</ol>",
      "metadata": {}
    },
    {
      "cell_type": "markdown",
      "source": "Data Science Tools\n\n1. Vs Code\n2. Jupyter\n3. Anaconda",
      "metadata": {}
    },
    {
      "cell_type": "markdown",
      "source": "***Below are a few examples of evaluating arithmetic expressions in Python.\n\n",
      "metadata": {}
    },
    {
      "cell_type": "markdown",
      "source": "#This a simple arithmetic expression to mutiply then add integers\n(3*4)+5",
      "metadata": {}
    },
    {
      "cell_type": "code",
      "source": "#This will convert 200 minutes to hours by diving by 60\n200 /60",
      "metadata": {
        "trusted": true
      },
      "execution_count": 6,
      "outputs": [
        {
          "execution_count": 6,
          "output_type": "execute_result",
          "data": {
            "text/plain": "3.3333333333333335"
          },
          "metadata": {}
        }
      ]
    },
    {
      "cell_type": "markdown",
      "source": "**Authtor\n\nVatsal Jain",
      "metadata": {}
    }
  ]
}